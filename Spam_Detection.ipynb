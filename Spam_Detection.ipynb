{
  "metadata": {
    "kernelspec": {
      "language": "python",
      "display_name": "Python 3",
      "name": "python3"
    },
    "language_info": {
      "name": "python",
      "version": "3.11.11",
      "mimetype": "text/x-python",
      "codemirror_mode": {
        "name": "ipython",
        "version": 3
      },
      "pygments_lexer": "ipython3",
      "nbconvert_exporter": "python",
      "file_extension": ".py"
    },
    "kaggle": {
      "accelerator": "none",
      "dataSources": [
        {
          "sourceId": 1507821,
          "sourceType": "datasetVersion",
          "datasetId": 888171
        }
      ],
      "dockerImageVersionId": 31040,
      "isInternetEnabled": true,
      "language": "python",
      "sourceType": "notebook",
      "isGpuEnabled": false
    },
    "colab": {
      "name": "Spam Detection",
      "provenance": [],
      "include_colab_link": true
    }
  },
  "nbformat_minor": 0,
  "nbformat": 4,
  "cells": [
    {
      "cell_type": "markdown",
      "metadata": {
        "id": "view-in-github",
        "colab_type": "text"
      },
      "source": [
        "<a href=\"https://colab.research.google.com/github/SumeetsRoorkee/ML_Code/blob/main/Spam_Detection.ipynb\" target=\"_parent\"><img src=\"https://colab.research.google.com/assets/colab-badge.svg\" alt=\"Open In Colab\"/></a>"
      ]
    },
    {
      "source": [
        "# IMPORTANT: RUN THIS CELL IN ORDER TO IMPORT YOUR KAGGLE DATA SOURCES,\n",
        "# THEN FEEL FREE TO DELETE THIS CELL.\n",
        "# NOTE: THIS NOTEBOOK ENVIRONMENT DIFFERS FROM KAGGLE'S PYTHON\n",
        "# ENVIRONMENT SO THERE MAY BE MISSING LIBRARIES USED BY YOUR\n",
        "# NOTEBOOK.\n",
        "import kagglehub\n",
        "datatattle_email_classification_nlp_path = kagglehub.dataset_download('datatattle/email-classification-nlp')\n",
        "\n",
        "print('Data source import complete.')\n"
      ],
      "metadata": {
        "id": "3VsDs9bX9264",
        "outputId": "16625f5a-fcbd-4a54-ab9d-38f8d6250b8a",
        "colab": {
          "base_uri": "https://localhost:8080/"
        }
      },
      "cell_type": "code",
      "outputs": [
        {
          "output_type": "stream",
          "name": "stdout",
          "text": [
            "Downloading from https://www.kaggle.com/api/v1/datasets/download/datatattle/email-classification-nlp?dataset_version_number=1...\n"
          ]
        },
        {
          "output_type": "stream",
          "name": "stderr",
          "text": [
            "100%|██████████| 46.8k/46.8k [00:00<00:00, 21.0MB/s]"
          ]
        },
        {
          "output_type": "stream",
          "name": "stdout",
          "text": [
            "Extracting files...\n",
            "Data source import complete.\n"
          ]
        },
        {
          "output_type": "stream",
          "name": "stderr",
          "text": [
            "\n"
          ]
        }
      ],
      "execution_count": 1
    },
    {
      "cell_type": "code",
      "source": [
        "# This Python 3 environment comes with many helpful analytics libraries installed\n",
        "# It is defined by the kaggle/python Docker image: https://github.com/kaggle/docker-python\n",
        "# For example, here's several helpful packages to load\n",
        "\n",
        "import numpy as np # linear algebra\n",
        "import pandas as pd # data processing, CSV file I/O (e.g. pd.read_csv)\n",
        "\n",
        "# Input data files are available in the read-only \"../input/\" directory\n",
        "# For example, running this (by clicking run or pressing Shift+Enter) will list all files under the input directory\n",
        "\n",
        "import os\n",
        "for dirname, _, filenames in os.walk('/kaggle/input'):\n",
        "    for filename in filenames:\n",
        "        print(os.path.join(dirname, filename))\n",
        "\n",
        "# You can write up to 20GB to the current directory (/kaggle/working/) that gets preserved as output when you create a version using \"Save & Run All\"\n",
        "# You can also write temporary files to /kaggle/temp/, but they won't be saved outside of the current session"
      ],
      "metadata": {
        "_uuid": "8f2839f25d086af736a60e9eeb907d3b93b6e0e5",
        "_cell_guid": "b1076dfc-b9ad-4769-8c92-a6c4dae69d19",
        "trusted": true,
        "execution": {
          "iopub.status.busy": "2025-05-28T20:35:38.250945Z",
          "iopub.execute_input": "2025-05-28T20:35:38.251101Z",
          "iopub.status.idle": "2025-05-28T20:35:39.857911Z",
          "shell.execute_reply.started": "2025-05-28T20:35:38.251085Z",
          "shell.execute_reply": "2025-05-28T20:35:39.857197Z"
        },
        "id": "b7A23R_I9266"
      },
      "outputs": [],
      "execution_count": null
    },
    {
      "cell_type": "code",
      "source": [
        "import pandas as pd\n",
        "import numpy as np\n",
        "from transformers import BertTokenizer, BertForSequenceClassification\n",
        "import torch\n",
        "from torch.utils.data import Dataset, DataLoader\n",
        "from sklearn.model_selection import StratifiedKFold\n",
        "from sklearn.metrics import f1_score\n",
        "from tqdm import tqdm\n",
        "import torch.nn.functional as F\n",
        "import copy"
      ],
      "metadata": {
        "trusted": true,
        "execution": {
          "iopub.status.busy": "2025-05-28T20:41:57.544677Z",
          "iopub.execute_input": "2025-05-28T20:41:57.544923Z",
          "iopub.status.idle": "2025-05-28T20:42:24.491878Z",
          "shell.execute_reply.started": "2025-05-28T20:41:57.544904Z",
          "shell.execute_reply": "2025-05-28T20:42:24.491235Z"
        },
        "id": "kG3A9JD99266",
        "outputId": "c89480ac-9b7d-46ec-c1dc-d86cdd10a726"
      },
      "outputs": [
        {
          "name": "stderr",
          "text": "2025-05-28 20:42:12.509047: E external/local_xla/xla/stream_executor/cuda/cuda_fft.cc:477] Unable to register cuFFT factory: Attempting to register factory for plugin cuFFT when one has already been registered\nWARNING: All log messages before absl::InitializeLog() is called are written to STDERR\nE0000 00:00:1748464932.731570      35 cuda_dnn.cc:8310] Unable to register cuDNN factory: Attempting to register factory for plugin cuDNN when one has already been registered\nE0000 00:00:1748464932.800796      35 cuda_blas.cc:1418] Unable to register cuBLAS factory: Attempting to register factory for plugin cuBLAS when one has already been registered\n",
          "output_type": "stream"
        }
      ],
      "execution_count": null
    },
    {
      "cell_type": "code",
      "source": [
        "train_df = pd.read_csv(\"/kaggle/input/email-classification-nlp/SMS_train.csv\", encoding='iso-8859-1')\n",
        "test_df = pd.read_csv(\"/kaggle/input/email-classification-nlp/SMS_test.csv\", encoding='iso-8859-1')"
      ],
      "metadata": {
        "trusted": true,
        "execution": {
          "iopub.status.busy": "2025-05-28T20:43:53.458252Z",
          "iopub.execute_input": "2025-05-28T20:43:53.458858Z",
          "iopub.status.idle": "2025-05-28T20:43:53.498369Z",
          "shell.execute_reply.started": "2025-05-28T20:43:53.458829Z",
          "shell.execute_reply": "2025-05-28T20:43:53.497401Z"
        },
        "id": "vYSo8ma09267"
      },
      "outputs": [],
      "execution_count": null
    },
    {
      "cell_type": "code",
      "source": [
        "train_df.shape"
      ],
      "metadata": {
        "trusted": true,
        "execution": {
          "iopub.status.busy": "2025-05-28T20:49:21.005833Z",
          "iopub.execute_input": "2025-05-28T20:49:21.006107Z",
          "iopub.status.idle": "2025-05-28T20:49:21.011417Z",
          "shell.execute_reply.started": "2025-05-28T20:49:21.006088Z",
          "shell.execute_reply": "2025-05-28T20:49:21.010522Z"
        },
        "id": "izmkLP2C9267",
        "outputId": "f5cc61b9-13b1-4d54-f319-fce4a9c174ef"
      },
      "outputs": [
        {
          "execution_count": 12,
          "output_type": "execute_result",
          "data": {
            "text/plain": "(957, 3)"
          },
          "metadata": {}
        }
      ],
      "execution_count": null
    },
    {
      "cell_type": "code",
      "source": [
        "test_df.shape"
      ],
      "metadata": {
        "trusted": true,
        "execution": {
          "iopub.status.busy": "2025-05-28T20:49:34.902282Z",
          "iopub.execute_input": "2025-05-28T20:49:34.902591Z",
          "iopub.status.idle": "2025-05-28T20:49:34.907667Z",
          "shell.execute_reply.started": "2025-05-28T20:49:34.902571Z",
          "shell.execute_reply": "2025-05-28T20:49:34.907002Z"
        },
        "id": "lf4DDi0-9267",
        "outputId": "4fa69e58-9277-4ddc-e974-2714fbde87e3"
      },
      "outputs": [
        {
          "execution_count": 13,
          "output_type": "execute_result",
          "data": {
            "text/plain": "(125, 3)"
          },
          "metadata": {}
        }
      ],
      "execution_count": null
    },
    {
      "cell_type": "code",
      "source": [
        "train_df['Label'].value_counts()"
      ],
      "metadata": {
        "trusted": true,
        "execution": {
          "iopub.status.busy": "2025-05-28T20:46:34.595639Z",
          "iopub.execute_input": "2025-05-28T20:46:34.595895Z",
          "iopub.status.idle": "2025-05-28T20:46:34.604896Z",
          "shell.execute_reply.started": "2025-05-28T20:46:34.595878Z",
          "shell.execute_reply": "2025-05-28T20:46:34.603894Z"
        },
        "id": "-D1bk55R9267",
        "outputId": "9341b4df-5e52-4cab-b250-9b9a57a1b8cb"
      },
      "outputs": [
        {
          "execution_count": 10,
          "output_type": "execute_result",
          "data": {
            "text/plain": "Label\nNon-Spam    835\nSpam        122\nName: count, dtype: int64"
          },
          "metadata": {}
        }
      ],
      "execution_count": null
    },
    {
      "cell_type": "code",
      "source": [
        "from sklearn import preprocessing\n",
        "\n",
        "label_encoder = preprocessing.LabelEncoder()\n",
        "train_df['Spam_Label']= label_encoder.fit_transform(train_df['Label'])\n",
        "test_df['Spam_Label']= label_encoder.fit_transform(test_df['Label'])\n",
        "train_df.head"
      ],
      "metadata": {
        "trusted": true,
        "execution": {
          "iopub.status.busy": "2025-05-28T20:55:56.337101Z",
          "iopub.execute_input": "2025-05-28T20:55:56.338017Z",
          "iopub.status.idle": "2025-05-28T20:55:56.345821Z",
          "shell.execute_reply.started": "2025-05-28T20:55:56.337993Z",
          "shell.execute_reply": "2025-05-28T20:55:56.34507Z"
        },
        "id": "qpQ2tRtF9268",
        "outputId": "78a1ef01-9900-472f-8ac4-c1a3c2619abd"
      },
      "outputs": [
        {
          "execution_count": 18,
          "output_type": "execute_result",
          "data": {
            "text/plain": "<bound method NDFrame.head of      S. No.                                       Message_body     Label  \\\n0         1                         Rofl. Its true to its name  Non-Spam   \n1         2  The guy did some bitching but I acted like i'd...  Non-Spam   \n2         3  Pity, * was in mood for that. So...any other s...  Non-Spam   \n3         4               Will ü b going to esplanade fr home?  Non-Spam   \n4         5  This is the 2nd time we have tried 2 contact u...      Spam   \n..      ...                                                ...       ...   \n952     953  hows my favourite person today? r u workin har...  Non-Spam   \n953     954                      How much you got for cleaning  Non-Spam   \n954     955  Sorry da. I gone mad so many pending works wha...  Non-Spam   \n955     956                                 Wat time ü finish?  Non-Spam   \n956     957                    Just glad to be talking to you.  Non-Spam   \n\n     Spam_Label  \n0             0  \n1             0  \n2             0  \n3             0  \n4             1  \n..          ...  \n952           0  \n953           0  \n954           0  \n955           0  \n956           0  \n\n[957 rows x 4 columns]>"
          },
          "metadata": {}
        }
      ],
      "execution_count": null
    },
    {
      "cell_type": "code",
      "source": [
        "test_df.head"
      ],
      "metadata": {
        "trusted": true,
        "execution": {
          "iopub.status.busy": "2025-05-28T20:56:41.637257Z",
          "iopub.execute_input": "2025-05-28T20:56:41.637574Z",
          "iopub.status.idle": "2025-05-28T20:56:41.64501Z",
          "shell.execute_reply.started": "2025-05-28T20:56:41.637552Z",
          "shell.execute_reply": "2025-05-28T20:56:41.644192Z"
        },
        "id": "PKcXpCre9268",
        "outputId": "898aaaba-41c5-4f90-8554-ac2bbfc735cd"
      },
      "outputs": [
        {
          "execution_count": 19,
          "output_type": "execute_result",
          "data": {
            "text/plain": "<bound method NDFrame.head of      S. No.                                       Message_body     Label  \\\n0         1  UpgrdCentre Orange customer, you may now claim...      Spam   \n1         2  Loan for any purpose £500 - £75,000. Homeowner...      Spam   \n2         3  Congrats! Nokia 3650 video camera phone is you...      Spam   \n3         4  URGENT! Your Mobile number has been awarded wi...      Spam   \n4         5  Someone has contacted our dating service and e...      Spam   \n..      ...                                                ...       ...   \n120     121  7 wonders in My WORLD 7th You 6th Ur style 5th...  Non-Spam   \n121     122  Try to do something dear. You read something f...  Non-Spam   \n122     123  Sun ah... Thk mayb can if dun have anythin on....  Non-Spam   \n123     124  SYMPTOMS when U are in love: \"1.U like listeni...  Non-Spam   \n124     125  Great. Have a safe trip. Dont panic surrender ...  Non-Spam   \n\n     Spam_Label  \n0             1  \n1             1  \n2             1  \n3             1  \n4             1  \n..          ...  \n120           0  \n121           0  \n122           0  \n123           0  \n124           0  \n\n[125 rows x 4 columns]>"
          },
          "metadata": {}
        }
      ],
      "execution_count": null
    },
    {
      "cell_type": "code",
      "source": [
        "df = pd.concat(train_df, test_df)"
      ],
      "metadata": {
        "trusted": true,
        "id": "dUYt5rx09268"
      },
      "outputs": [],
      "execution_count": null
    }
  ]
}
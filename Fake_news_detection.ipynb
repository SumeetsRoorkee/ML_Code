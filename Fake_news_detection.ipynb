{
  "metadata": {
    "kernelspec": {
      "language": "python",
      "display_name": "Python 3",
      "name": "python3"
    },
    "language_info": {
      "name": "python",
      "version": "3.11.11",
      "mimetype": "text/x-python",
      "codemirror_mode": {
        "name": "ipython",
        "version": 3
      },
      "pygments_lexer": "ipython3",
      "nbconvert_exporter": "python",
      "file_extension": ".py"
    },
    "kaggle": {
      "accelerator": "none",
      "dataSources": [
        {
          "sourceId": 11604520,
          "sourceType": "datasetVersion",
          "datasetId": 7278464
        }
      ],
      "dockerImageVersionId": 31040,
      "isInternetEnabled": true,
      "language": "python",
      "sourceType": "notebook",
      "isGpuEnabled": false
    },
    "colab": {
      "name": "Fake_news_detection",
      "provenance": [],
      "include_colab_link": true
    }
  },
  "nbformat_minor": 0,
  "nbformat": 4,
  "cells": [
    {
      "cell_type": "markdown",
      "metadata": {
        "id": "view-in-github",
        "colab_type": "text"
      },
      "source": [
        "<a href=\"https://colab.research.google.com/github/SumeetsRoorkee/ML_Code/blob/main/Fake_news_detection.ipynb\" target=\"_parent\"><img src=\"https://colab.research.google.com/assets/colab-badge.svg\" alt=\"Open In Colab\"/></a>"
      ]
    },
    {
      "source": [
        "# IMPORTANT: RUN THIS CELL IN ORDER TO IMPORT YOUR KAGGLE DATA SOURCES,\n",
        "# THEN FEEL FREE TO DELETE THIS CELL.\n",
        "# NOTE: THIS NOTEBOOK ENVIRONMENT DIFFERS FROM KAGGLE'S PYTHON\n",
        "# ENVIRONMENT SO THERE MAY BE MISSING LIBRARIES USED BY YOUR\n",
        "# NOTEBOOK.\n",
        "import kagglehub\n",
        "razanaqvi14_real_and_fake_news_path = kagglehub.dataset_download('razanaqvi14/real-and-fake-news')\n",
        "\n",
        "print('Data source import complete.')\n"
      ],
      "metadata": {
        "id": "p-SVcPJJ-OJZ"
      },
      "cell_type": "code",
      "outputs": [],
      "execution_count": null
    },
    {
      "cell_type": "code",
      "source": [
        "import nltk\n",
        "nltk.download('punkt')\n",
        "\n",
        "import tensorflow as tf\n",
        "import pandas as pd\n",
        "import numpy as np\n",
        "import matplotlib.pyplot as plt\n",
        "import seaborn as sns\n",
        "from wordcloud import WordCloud, STOPWORDS\n",
        "import nltk\n",
        "import re\n",
        "from nltk.stem import PorterStemmer, WordNetLemmatizer\n",
        "from nltk.corpus import stopwords\n",
        "from nltk.tokenize import word_tokenize, sent_tokenize\n",
        "import gensim\n",
        "from gensim.utils import simple_preprocess\n",
        "from gensim.parsing.preprocessing import STOPWORDS\n",
        "# import keras\n",
        "from tensorflow.keras.preprocessing.text import one_hot, Tokenizer\n",
        "from tensorflow.keras.preprocessing.sequence import pad_sequences\n",
        "from tensorflow.keras.models import Sequential\n",
        "from tensorflow.keras.layers import Dense, Flatten, Embedding, Input, LSTM, Conv1D, MaxPool1D, Bidirectional\n",
        "from tensorflow.keras.models import Model\n",
        "from jupyterthemes import jtplot\n",
        "jtplot.style(theme='monokai', context='notebook', ticks=True, grid=False)"
      ],
      "metadata": {
        "_uuid": "8f2839f25d086af736a60e9eeb907d3b93b6e0e5",
        "_cell_guid": "b1076dfc-b9ad-4769-8c92-a6c4dae69d19",
        "trusted": true,
        "execution": {
          "iopub.status.busy": "2025-05-28T16:54:52.258948Z",
          "iopub.execute_input": "2025-05-28T16:54:52.259285Z",
          "iopub.status.idle": "2025-05-28T16:55:53.513649Z",
          "shell.execute_reply.started": "2025-05-28T16:54:52.259262Z",
          "shell.execute_reply": "2025-05-28T16:55:53.512219Z"
        },
        "id": "KhSxEGgx-OJb"
      },
      "outputs": [],
      "execution_count": null
    },
    {
      "cell_type": "code",
      "source": [
        "nltk.download('stopwords')\n",
        "nltk.download('punkt')\n",
        "\n",
        "stop_words = stopwords.words('english')\n"
      ],
      "metadata": {
        "trusted": true,
        "execution": {
          "iopub.status.busy": "2025-05-28T17:03:31.245618Z",
          "iopub.execute_input": "2025-05-28T17:03:31.245999Z",
          "iopub.status.idle": "2025-05-28T17:03:31.262151Z",
          "shell.execute_reply.started": "2025-05-28T17:03:31.245973Z",
          "shell.execute_reply": "2025-05-28T17:03:31.260965Z"
        },
        "id": "2tBb-zfZ-OJc"
      },
      "outputs": [],
      "execution_count": null
    },
    {
      "cell_type": "code",
      "source": [
        "news_true = pd.read_csv(\"/kaggle/input/real-and-fake-news/True.csv\")\n",
        "news_fake = pd.read_csv(\"/kaggle/input/real-and-fake-news/Fake.csv\")"
      ],
      "metadata": {
        "trusted": true,
        "execution": {
          "iopub.status.busy": "2025-05-28T17:01:08.016857Z",
          "iopub.execute_input": "2025-05-28T17:01:08.017268Z",
          "iopub.status.idle": "2025-05-28T17:01:11.660063Z",
          "shell.execute_reply.started": "2025-05-28T17:01:08.017238Z",
          "shell.execute_reply": "2025-05-28T17:01:11.659055Z"
        },
        "id": "G5DAQy7W-OJc"
      },
      "outputs": [],
      "execution_count": null
    },
    {
      "cell_type": "code",
      "source": [
        "news_true.head()"
      ],
      "metadata": {
        "trusted": true,
        "execution": {
          "iopub.status.busy": "2025-05-28T17:01:24.537508Z",
          "iopub.execute_input": "2025-05-28T17:01:24.537907Z",
          "iopub.status.idle": "2025-05-28T17:01:24.570108Z",
          "shell.execute_reply.started": "2025-05-28T17:01:24.53787Z",
          "shell.execute_reply": "2025-05-28T17:01:24.569002Z"
        },
        "id": "Mr_eHb9g-OJc"
      },
      "outputs": [],
      "execution_count": null
    },
    {
      "cell_type": "code",
      "source": [
        "news_fake.head()"
      ],
      "metadata": {
        "trusted": true,
        "execution": {
          "iopub.status.busy": "2025-05-28T17:01:27.550382Z",
          "iopub.execute_input": "2025-05-28T17:01:27.550763Z",
          "iopub.status.idle": "2025-05-28T17:01:27.562421Z",
          "shell.execute_reply.started": "2025-05-28T17:01:27.550734Z",
          "shell.execute_reply": "2025-05-28T17:01:27.561386Z"
        },
        "id": "ulePDY4s-OJc"
      },
      "outputs": [],
      "execution_count": null
    },
    {
      "cell_type": "code",
      "source": [
        "news_true['isfake']=0\n",
        "news_true.head()"
      ],
      "metadata": {
        "trusted": true,
        "execution": {
          "iopub.status.busy": "2025-05-28T17:01:30.877381Z",
          "iopub.execute_input": "2025-05-28T17:01:30.877752Z",
          "iopub.status.idle": "2025-05-28T17:01:30.891346Z",
          "shell.execute_reply.started": "2025-05-28T17:01:30.87772Z",
          "shell.execute_reply": "2025-05-28T17:01:30.890096Z"
        },
        "id": "d3jChiMC-OJc"
      },
      "outputs": [],
      "execution_count": null
    },
    {
      "cell_type": "code",
      "source": [
        "news_fake['isfake']=1\n",
        "news_fake.head()"
      ],
      "metadata": {
        "trusted": true,
        "execution": {
          "iopub.status.busy": "2025-05-28T17:01:34.194462Z",
          "iopub.execute_input": "2025-05-28T17:01:34.194859Z",
          "iopub.status.idle": "2025-05-28T17:01:34.207274Z",
          "shell.execute_reply.started": "2025-05-28T17:01:34.194829Z",
          "shell.execute_reply": "2025-05-28T17:01:34.206312Z"
        },
        "id": "VtJ39zMv-OJd"
      },
      "outputs": [],
      "execution_count": null
    },
    {
      "cell_type": "code",
      "source": [
        "news_true['original_text'] = news_true['title'] + \" \" + news_true['text']"
      ],
      "metadata": {
        "trusted": true,
        "execution": {
          "iopub.status.busy": "2025-05-28T17:01:37.776155Z",
          "iopub.execute_input": "2025-05-28T17:01:37.776502Z",
          "iopub.status.idle": "2025-05-28T17:01:37.889717Z",
          "shell.execute_reply.started": "2025-05-28T17:01:37.776477Z",
          "shell.execute_reply": "2025-05-28T17:01:37.888698Z"
        },
        "id": "U64XX6r_-OJd"
      },
      "outputs": [],
      "execution_count": null
    },
    {
      "cell_type": "code",
      "source": [
        "news_true.head()"
      ],
      "metadata": {
        "trusted": true,
        "execution": {
          "iopub.status.busy": "2025-05-28T17:01:40.552646Z",
          "iopub.execute_input": "2025-05-28T17:01:40.55308Z",
          "iopub.status.idle": "2025-05-28T17:01:40.565611Z",
          "shell.execute_reply.started": "2025-05-28T17:01:40.553041Z",
          "shell.execute_reply": "2025-05-28T17:01:40.564566Z"
        },
        "id": "A8maC9w--OJd"
      },
      "outputs": [],
      "execution_count": null
    },
    {
      "cell_type": "code",
      "source": [
        "news_fake['original_text'] = news_fake['title'] + \" \" + news_fake['text']"
      ],
      "metadata": {
        "trusted": true,
        "execution": {
          "iopub.status.busy": "2025-05-28T17:01:43.708546Z",
          "iopub.execute_input": "2025-05-28T17:01:43.70894Z",
          "iopub.status.idle": "2025-05-28T17:01:43.860218Z",
          "shell.execute_reply.started": "2025-05-28T17:01:43.708911Z",
          "shell.execute_reply": "2025-05-28T17:01:43.859055Z"
        },
        "id": "bC1LtuD0-OJd"
      },
      "outputs": [],
      "execution_count": null
    },
    {
      "cell_type": "code",
      "source": [
        "news_fake.head()"
      ],
      "metadata": {
        "trusted": true,
        "execution": {
          "iopub.status.busy": "2025-05-28T17:01:45.913726Z",
          "iopub.execute_input": "2025-05-28T17:01:45.914154Z",
          "iopub.status.idle": "2025-05-28T17:01:45.92606Z",
          "shell.execute_reply.started": "2025-05-28T17:01:45.914093Z",
          "shell.execute_reply": "2025-05-28T17:01:45.924921Z"
        },
        "id": "775IY6f8-OJd"
      },
      "outputs": [],
      "execution_count": null
    },
    {
      "cell_type": "code",
      "source": [
        "news_true.shape\n"
      ],
      "metadata": {
        "trusted": true,
        "execution": {
          "iopub.status.busy": "2025-05-28T17:01:49.595348Z",
          "iopub.execute_input": "2025-05-28T17:01:49.595705Z",
          "iopub.status.idle": "2025-05-28T17:01:49.60196Z",
          "shell.execute_reply.started": "2025-05-28T17:01:49.595678Z",
          "shell.execute_reply": "2025-05-28T17:01:49.601016Z"
        },
        "id": "CokFH8J3-OJe"
      },
      "outputs": [],
      "execution_count": null
    },
    {
      "cell_type": "code",
      "source": [
        "news_fake.shape"
      ],
      "metadata": {
        "trusted": true,
        "execution": {
          "iopub.status.busy": "2025-05-28T17:01:52.049214Z",
          "iopub.execute_input": "2025-05-28T17:01:52.04957Z",
          "iopub.status.idle": "2025-05-28T17:01:52.055925Z",
          "shell.execute_reply.started": "2025-05-28T17:01:52.049545Z",
          "shell.execute_reply": "2025-05-28T17:01:52.055052Z"
        },
        "id": "TARmJX44-OJe"
      },
      "outputs": [],
      "execution_count": null
    },
    {
      "cell_type": "code",
      "source": [
        "df = pd.concat([news_true, news_fake], ignore_index=True)\n",
        "df"
      ],
      "metadata": {
        "trusted": true,
        "execution": {
          "iopub.status.busy": "2025-05-28T17:01:54.097052Z",
          "iopub.execute_input": "2025-05-28T17:01:54.097425Z",
          "iopub.status.idle": "2025-05-28T17:01:54.126602Z",
          "shell.execute_reply.started": "2025-05-28T17:01:54.097393Z",
          "shell.execute_reply": "2025-05-28T17:01:54.125515Z"
        },
        "id": "Wt9-_ZPo-OJe"
      },
      "outputs": [],
      "execution_count": null
    },
    {
      "cell_type": "code",
      "source": [
        "df_news = df.drop(['title','text','date', 'subject'], axis=1)"
      ],
      "metadata": {
        "trusted": true,
        "execution": {
          "iopub.status.busy": "2025-05-28T17:02:05.655742Z",
          "iopub.execute_input": "2025-05-28T17:02:05.656772Z",
          "iopub.status.idle": "2025-05-28T17:02:05.668509Z",
          "shell.execute_reply.started": "2025-05-28T17:02:05.656739Z",
          "shell.execute_reply": "2025-05-28T17:02:05.667327Z"
        },
        "id": "P6OfqdpV-OJe"
      },
      "outputs": [],
      "execution_count": null
    },
    {
      "cell_type": "code",
      "source": [
        "df_news.head()"
      ],
      "metadata": {
        "trusted": true,
        "execution": {
          "iopub.status.busy": "2025-05-28T17:02:10.307616Z",
          "iopub.execute_input": "2025-05-28T17:02:10.308495Z",
          "iopub.status.idle": "2025-05-28T17:02:10.317823Z",
          "shell.execute_reply.started": "2025-05-28T17:02:10.308455Z",
          "shell.execute_reply": "2025-05-28T17:02:10.316781Z"
        },
        "id": "6qUELsye-OJe"
      },
      "outputs": [],
      "execution_count": null
    },
    {
      "cell_type": "code",
      "source": [
        "def text_proper(text):\n",
        "    text = text.lower()  # Convert to lowercase\n",
        "    text = re.sub(r'\\s+', ' ', text)  # Remove extra spaces\n",
        "    text = re.sub(r'[^\\w\\s]', '', text)  # Remove punctuation\n",
        "    return text"
      ],
      "metadata": {
        "trusted": true,
        "execution": {
          "iopub.status.busy": "2025-05-28T17:02:13.82387Z",
          "iopub.execute_input": "2025-05-28T17:02:13.824351Z",
          "iopub.status.idle": "2025-05-28T17:02:13.83093Z",
          "shell.execute_reply.started": "2025-05-28T17:02:13.824318Z",
          "shell.execute_reply": "2025-05-28T17:02:13.829911Z"
        },
        "id": "17WeokAP-OJe"
      },
      "outputs": [],
      "execution_count": null
    },
    {
      "cell_type": "code",
      "source": [
        "df_news['text'] = df['original_text'].apply(text_proper)"
      ],
      "metadata": {
        "trusted": true,
        "execution": {
          "iopub.status.busy": "2025-05-28T17:02:18.197972Z",
          "iopub.execute_input": "2025-05-28T17:02:18.198324Z",
          "iopub.status.idle": "2025-05-28T17:02:29.161246Z",
          "shell.execute_reply.started": "2025-05-28T17:02:18.198299Z",
          "shell.execute_reply": "2025-05-28T17:02:29.1601Z"
        },
        "id": "VCF9hrzt-OJe"
      },
      "outputs": [],
      "execution_count": null
    },
    {
      "cell_type": "code",
      "source": [
        "df_news"
      ],
      "metadata": {
        "trusted": true,
        "execution": {
          "iopub.status.busy": "2025-05-28T17:03:11.391517Z",
          "iopub.execute_input": "2025-05-28T17:03:11.392051Z",
          "iopub.status.idle": "2025-05-28T17:03:11.408514Z",
          "shell.execute_reply.started": "2025-05-28T17:03:11.392008Z",
          "shell.execute_reply": "2025-05-28T17:03:11.407476Z"
        },
        "id": "RTG42if3-OJe"
      },
      "outputs": [],
      "execution_count": null
    },
    {
      "cell_type": "code",
      "source": [
        "def preprocess(text):\n",
        "    result = []\n",
        "    for token in gensim.utils.simple_preprocess(text):\n",
        "        if token not in gensim.parsing.preprocessing.STOPWORDS and len(token) >3 and token not in stop_words:\n",
        "            result.append(token)\n",
        "    return result"
      ],
      "metadata": {
        "trusted": true,
        "execution": {
          "iopub.status.busy": "2025-05-28T17:03:40.704978Z",
          "iopub.execute_input": "2025-05-28T17:03:40.705343Z",
          "iopub.status.idle": "2025-05-28T17:03:40.710664Z",
          "shell.execute_reply.started": "2025-05-28T17:03:40.705319Z",
          "shell.execute_reply": "2025-05-28T17:03:40.709752Z"
        },
        "id": "4cL-8-pr-OJf"
      },
      "outputs": [],
      "execution_count": null
    },
    {
      "cell_type": "code",
      "source": [
        "df_news['tokens'] = df_news['text'].apply(preprocess)"
      ],
      "metadata": {
        "trusted": true,
        "execution": {
          "iopub.status.busy": "2025-05-28T17:03:43.532061Z",
          "iopub.execute_input": "2025-05-28T17:03:43.532413Z",
          "iopub.status.idle": "2025-05-28T17:04:29.984284Z",
          "shell.execute_reply.started": "2025-05-28T17:03:43.53239Z",
          "shell.execute_reply": "2025-05-28T17:04:29.983291Z"
        },
        "id": "Jx7Zo6VT-OJf"
      },
      "outputs": [],
      "execution_count": null
    },
    {
      "cell_type": "code",
      "source": [
        "print(df_news['tokens'][0])"
      ],
      "metadata": {
        "trusted": true,
        "execution": {
          "iopub.status.busy": "2025-05-28T17:05:25.908916Z",
          "iopub.execute_input": "2025-05-28T17:05:25.909284Z",
          "iopub.status.idle": "2025-05-28T17:05:25.914977Z",
          "shell.execute_reply.started": "2025-05-28T17:05:25.909261Z",
          "shell.execute_reply": "2025-05-28T17:05:25.913959Z"
        },
        "id": "ZSsqpK5B-OJf"
      },
      "outputs": [],
      "execution_count": null
    },
    {
      "cell_type": "code",
      "source": [
        "# Obtain the total words present in the dataset\n",
        "vocab = []\n",
        "for i in df_news['tokens']:\n",
        "    for j in i:\n",
        "        vocab.append(j)"
      ],
      "metadata": {
        "trusted": true,
        "execution": {
          "iopub.status.busy": "2025-05-28T17:05:30.45994Z",
          "iopub.execute_input": "2025-05-28T17:05:30.460451Z",
          "iopub.status.idle": "2025-05-28T17:05:31.288368Z",
          "shell.execute_reply.started": "2025-05-28T17:05:30.460408Z",
          "shell.execute_reply": "2025-05-28T17:05:31.287486Z"
        },
        "id": "-UH5IyX9-OJf"
      },
      "outputs": [],
      "execution_count": null
    },
    {
      "cell_type": "code",
      "source": [
        "vocab"
      ],
      "metadata": {
        "trusted": true,
        "execution": {
          "iopub.status.busy": "2025-05-28T04:50:31.778194Z",
          "iopub.status.idle": "2025-05-28T04:50:31.778519Z",
          "shell.execute_reply.started": "2025-05-28T04:50:31.778371Z",
          "shell.execute_reply": "2025-05-28T04:50:31.778388Z"
        },
        "id": "yd_WDC54-OJf"
      },
      "outputs": [],
      "execution_count": null
    },
    {
      "cell_type": "code",
      "source": [
        "total_words = len(list(set(vocab)))\n",
        "total_words"
      ],
      "metadata": {
        "trusted": true,
        "execution": {
          "iopub.status.busy": "2025-05-28T17:05:35.730354Z",
          "iopub.execute_input": "2025-05-28T17:05:35.730725Z",
          "iopub.status.idle": "2025-05-28T17:05:36.410679Z",
          "shell.execute_reply.started": "2025-05-28T17:05:35.730699Z",
          "shell.execute_reply": "2025-05-28T17:05:36.409602Z"
        },
        "id": "uVSHchnJ-OJf"
      },
      "outputs": [],
      "execution_count": null
    },
    {
      "cell_type": "code",
      "source": [
        "df_news['clean_joined'] = df_news['tokens'].apply(lambda x: \" \".join(x))\n",
        "df_news.head()"
      ],
      "metadata": {
        "trusted": true,
        "execution": {
          "iopub.status.busy": "2025-05-28T17:05:38.781051Z",
          "iopub.execute_input": "2025-05-28T17:05:38.781345Z",
          "iopub.status.idle": "2025-05-28T17:05:39.121968Z",
          "shell.execute_reply.started": "2025-05-28T17:05:38.781323Z",
          "shell.execute_reply": "2025-05-28T17:05:39.121064Z"
        },
        "id": "hTC_QQwR-OJf"
      },
      "outputs": [],
      "execution_count": null
    },
    {
      "cell_type": "code",
      "source": [
        "# plot the word cloud for text that is Fake\n",
        "plt.figure(figsize = (20,20))\n",
        "wc = WordCloud(max_words = 2000 , width = 1600 , height = 800 , stopwords = stop_words).generate(\" \".join(df_news[df_news.isfake == 1].clean_joined))\n",
        "plt.imshow(wc, interpolation = 'bilinear')"
      ],
      "metadata": {
        "trusted": true,
        "execution": {
          "iopub.status.busy": "2025-05-28T04:50:31.783099Z",
          "iopub.status.idle": "2025-05-28T04:50:31.78344Z",
          "shell.execute_reply.started": "2025-05-28T04:50:31.78327Z",
          "shell.execute_reply": "2025-05-28T04:50:31.783283Z"
        },
        "id": "hvcmstjp-OJf"
      },
      "outputs": [],
      "execution_count": null
    },
    {
      "cell_type": "code",
      "source": [
        "# plot the word cloud for text that is Real\n",
        "plt.figure(figsize = (20,20))\n",
        "wc = WordCloud(max_words = 2000 , width = 1600 , height = 800 , stopwords = stop_words).generate(\" \".join(df_news[df_news.isfake == 0].clean_joined))\n",
        "plt.imshow(wc, interpolation = 'bilinear')"
      ],
      "metadata": {
        "trusted": true,
        "execution": {
          "iopub.status.busy": "2025-05-28T04:50:31.785053Z",
          "iopub.status.idle": "2025-05-28T04:50:31.785616Z",
          "shell.execute_reply.started": "2025-05-28T04:50:31.785209Z",
          "shell.execute_reply": "2025-05-28T04:50:31.785226Z"
        },
        "id": "Jlzptv_I-OJf"
      },
      "outputs": [],
      "execution_count": null
    },
    {
      "cell_type": "code",
      "source": [
        "# length of maximum document will be needed to create word embeddings\n",
        "maxlen = -1\n",
        "for doc in df_news.clean_joined:\n",
        "    tokens = nltk.word_tokenize(doc)\n",
        "    if(maxlen<len(tokens)):\n",
        "        maxlen = len(tokens)\n",
        "print(maxlen)"
      ],
      "metadata": {
        "trusted": true,
        "execution": {
          "iopub.status.busy": "2025-05-28T17:05:44.664478Z",
          "iopub.execute_input": "2025-05-28T17:05:44.664814Z",
          "iopub.status.idle": "2025-05-28T17:06:20.555313Z",
          "shell.execute_reply.started": "2025-05-28T17:05:44.664763Z",
          "shell.execute_reply": "2025-05-28T17:06:20.55423Z"
        },
        "id": "q4f3HKUG-OJf"
      },
      "outputs": [],
      "execution_count": null
    },
    {
      "cell_type": "code",
      "source": [
        "from sklearn.feature_extraction.text import TfidfVectorizer\n",
        "# Create a tokenizer to tokenize the words and create sequences of tokenized words\n",
        "tokenizer = Tokenizer(num_words=total_words)\n",
        "tokenizer.fit_on_texts(df_news['clean_joined'])\n",
        "sequences = tokenizer.texts_to_sequences(df_news['clean_joined'])\n",
        "\n",
        "\n",
        "X = pad_sequences(sequences, maxlen=maxlen)\n",
        "y = df['isfake'].values"
      ],
      "metadata": {
        "trusted": true,
        "execution": {
          "iopub.status.busy": "2025-05-28T17:09:37.540316Z",
          "iopub.execute_input": "2025-05-28T17:09:37.540735Z",
          "iopub.status.idle": "2025-05-28T17:09:51.465684Z",
          "shell.execute_reply.started": "2025-05-28T17:09:37.540706Z",
          "shell.execute_reply": "2025-05-28T17:09:51.464473Z"
        },
        "id": "0FeWcc9e-OJg"
      },
      "outputs": [],
      "execution_count": null
    },
    {
      "cell_type": "code",
      "source": [
        "from sklearn.model_selection import train_test_split\n",
        "X_train, X_test, y_train, y_test = train_test_split(X, y, test_size = 0.2)"
      ],
      "metadata": {
        "trusted": true,
        "execution": {
          "iopub.status.busy": "2025-05-28T17:10:14.416749Z",
          "iopub.execute_input": "2025-05-28T17:10:14.417172Z",
          "iopub.status.idle": "2025-05-28T17:10:15.043782Z",
          "shell.execute_reply.started": "2025-05-28T17:10:14.417142Z",
          "shell.execute_reply": "2025-05-28T17:10:15.042625Z"
        },
        "id": "WaiXJTgC-OJg"
      },
      "outputs": [],
      "execution_count": null
    },
    {
      "cell_type": "code",
      "source": [
        "# Sequential Model\n",
        "model = Sequential()\n",
        "\n",
        "# embeddidng layer\n",
        "model.add(Embedding(total_words, output_dim = 64))\n",
        "# model.add(Embedding(total_words, output_dim = 240))\n",
        "\n",
        "\n",
        "# Bi-Directional RNN and LSTM\n",
        "model.add(Bidirectional(LSTM(128)))\n",
        "\n",
        "# Dense layers\n",
        "model.add(Dense(128, activation = 'relu'))\n",
        "model.add(Dense(1,activation= 'sigmoid'))\n",
        "model.compile(optimizer='adam', loss='binary_crossentropy', metrics=['acc'])\n",
        "model.summary()"
      ],
      "metadata": {
        "trusted": true,
        "execution": {
          "iopub.status.busy": "2025-05-28T17:10:24.394895Z",
          "iopub.execute_input": "2025-05-28T17:10:24.395263Z",
          "iopub.status.idle": "2025-05-28T17:10:24.442037Z",
          "shell.execute_reply.started": "2025-05-28T17:10:24.395238Z",
          "shell.execute_reply": "2025-05-28T17:10:24.441183Z"
        },
        "id": "Qlz8Dbv4-OJg"
      },
      "outputs": [],
      "execution_count": null
    },
    {
      "cell_type": "code",
      "source": [
        "# train the model\n",
        "model.fit(X_train, y_train, epochs=2, batch_size=64, validation_data=(X_test, y_test))"
      ],
      "metadata": {
        "trusted": true,
        "execution": {
          "iopub.status.busy": "2025-05-28T17:10:34.032418Z",
          "iopub.execute_input": "2025-05-28T17:10:34.033071Z",
          "iopub.status.idle": "2025-05-28T20:17:05.060266Z",
          "shell.execute_reply.started": "2025-05-28T17:10:34.033042Z",
          "shell.execute_reply": "2025-05-28T20:17:05.059223Z"
        },
        "id": "Uvf0qfzn-OJg"
      },
      "outputs": [],
      "execution_count": null
    },
    {
      "cell_type": "code",
      "source": [
        "pred = model.predict(X_test)"
      ],
      "metadata": {
        "trusted": true,
        "execution": {
          "iopub.status.busy": "2025-05-28T20:17:32.32353Z",
          "iopub.execute_input": "2025-05-28T20:17:32.324596Z",
          "iopub.status.idle": "2025-05-28T20:25:19.821902Z",
          "shell.execute_reply.started": "2025-05-28T20:17:32.324549Z",
          "shell.execute_reply": "2025-05-28T20:25:19.820715Z"
        },
        "id": "u3UXcFQB-OJg"
      },
      "outputs": [],
      "execution_count": null
    },
    {
      "cell_type": "code",
      "source": [
        "# if the predicted value is >0.5 it is real else it is fake\n",
        "prediction = []\n",
        "for i in range(len(pred)):\n",
        "    if pred[i].item() > 0.5:\n",
        "        prediction.append(1)\n",
        "    else:\n",
        "        prediction.append(0)"
      ],
      "metadata": {
        "trusted": true,
        "execution": {
          "iopub.status.busy": "2025-05-28T20:25:42.454292Z",
          "iopub.execute_input": "2025-05-28T20:25:42.454679Z",
          "iopub.status.idle": "2025-05-28T20:25:42.464585Z",
          "shell.execute_reply.started": "2025-05-28T20:25:42.454651Z",
          "shell.execute_reply": "2025-05-28T20:25:42.463482Z"
        },
        "id": "yn_MvEEy-OJg"
      },
      "outputs": [],
      "execution_count": null
    },
    {
      "cell_type": "code",
      "source": [
        "# getting the accuracy\n",
        "from sklearn.metrics import accuracy_score\n",
        "\n",
        "accuracy = accuracy_score(list(y_test), prediction)\n",
        "\n",
        "print(\"Model Accuracy : \", accuracy)"
      ],
      "metadata": {
        "trusted": true,
        "execution": {
          "iopub.status.busy": "2025-05-28T20:25:48.079575Z",
          "iopub.execute_input": "2025-05-28T20:25:48.07996Z",
          "iopub.status.idle": "2025-05-28T20:25:48.097523Z",
          "shell.execute_reply.started": "2025-05-28T20:25:48.079931Z",
          "shell.execute_reply": "2025-05-28T20:25:48.096132Z"
        },
        "id": "3zthpjcD-OJg"
      },
      "outputs": [],
      "execution_count": null
    },
    {
      "cell_type": "code",
      "source": [
        "# get the confusion matrix\n",
        "from sklearn.metrics import confusion_matrix\n",
        "cm = confusion_matrix(list(y_test), prediction)\n",
        "plt.figure(figsize = (25, 25))\n",
        "sns.heatmap(cm, annot = True)"
      ],
      "metadata": {
        "trusted": true,
        "execution": {
          "iopub.status.busy": "2025-05-28T20:25:53.632147Z",
          "iopub.execute_input": "2025-05-28T20:25:53.633217Z",
          "iopub.status.idle": "2025-05-28T20:25:54.285699Z",
          "shell.execute_reply.started": "2025-05-28T20:25:53.633182Z",
          "shell.execute_reply": "2025-05-28T20:25:54.284871Z"
        },
        "id": "JOr9kAln-OJg"
      },
      "outputs": [],
      "execution_count": null
    }
  ]
}